{
 "cells": [
  {
   "cell_type": "markdown",
   "metadata": {},
   "source": [
    "# 1. Sorri not veri gud in inglish\n",
    "\n",
    "Have you ever googled someone's name without knowing exactly how it should be written? Were you ever reluctant to look up the correct spelling of a query you typed? Or just unable to type properly because of being in a rush? Modern search engines usually do a pretty good job in deciphering defective user input. In order to be able to do that, a good spell-checking mechanism should be incorporated into a search procedure. Today we will take one step further towards building a good search engine and work on tolerant retrieval with respect to user queries. We will consider two cases:\n",
    "\n",
    "1. Users know that they don't know the correct spelling OR they want to get the results that follow some known pattern, so the use so called wildcards - queries like `retr*val`;\n",
    "2. Users don't know the correct spelling OR they don't care OR they are in a rush OR they expect that mistakes will be corrected OR /your option/... so they make mistakes and we need to handle them using:\n",
    "\n",
    "    2.1. Trigrams with Jaccard coefficient;\n",
    "    \n",
    "    2.2. Simple spellchecker by Peter Norvig with QWERTY weights;"
   ]
  },
  {
   "cell_type": "markdown",
   "metadata": {},
   "source": [
    "## 1.1. Handling wildcards\n",
    "\n",
    "We will handle wildcard queries using k-grams. K-gram is a list of consecutive k chars in a string - i.e., for the word *'star'*, it will be '*\\$st*', '*sta*', '*tar*', and '*ar$*', if we take k=3. Take a look at [book](https://nlp.stanford.edu/IR-book/pdf/irbookonlinereading.pdf) *chapter 3.2.2* to understand how k-grams can help efficiently match a wildcard against dictionary words. Here we will only consider wildcards with star symbols (may be multiple).\n",
    "\n",
    "Notice that for building k-grams index, **we will need a vocabulary of original word forms** to compare words in user input to the vocabulary of \"correct\" words (think why inverted index which we built for stemmed words doesn't work here).   \n",
    "\n",
    "You need to implement the following:\n",
    "\n",
    "- `build_inverted_index_orig_forms` - creates inverted index of original world forms from `facts` list, which is already given to you.  \n",
    "    Output format: `term:[collection_frequency, (doc_id_1, doc_freq_1), (doc_id_2, doc_freq_2), ...]`\n",
    "    \n",
    "\n",
    "- `build_k_gram_index` - creates k-gram index which maps every k-gram encountered in facts collection to a list of words containing this k-gram. Use the abovementioned inverted index of original words to construct this index.  \n",
    "    Output format: `'k_gram': ['word1_with_k_gram', 'word2_with_k_gram', ...]`\n",
    "    \n",
    "    \n",
    "- `generate_wildcard_options` - produce a list of vocabulary words matching given wildcard by intersecting postings of k-grams present in the wildcard (refer to *ch 3.2.2*). \n",
    "\n",
    "- `search_wildcard` - return list of facts that contain the words matching a wildcard query.\n",
    "\n",
    "\n",
    "We will use the dataset with curious facts for testing.\n",
    "\n",
    "### 1.1.1. Downloading the dataset"
   ]
  },
  {
   "cell_type": "code",
   "execution_count": 3,
   "metadata": {},
   "outputs": [
    {
     "name": "stdout",
     "output_type": "stream",
     "text": [
      "151. Women have twice as many pain receptors on their body than men. But a much higher pain tolerance.\n",
      "152. There are more stars in space than there are grains of sand on every beach in the world.\n",
      "153. For every human on Earth there are 1.6 million ants.\n",
      "154. The total weight of all those ants, however, is about the same as all the humans.\n",
      "155. On Jupiter and Saturn it rains diamonds.\n"
     ]
    }
   ],
   "source": [
    "import fnmatch\n",
    "import itertools\n",
    "import urllib.request\n",
    "data_url = \"https://raw.githubusercontent.com/IUCVLab/information-retrieval/main/datasets/facts.txt\"\n",
    "local_filename, headers = urllib.request.urlretrieve(data_url)\n",
    "\n",
    "facts = []\n",
    "with open(local_filename) as fp:\n",
    "    for cnt, line in enumerate(fp):\n",
    "        facts.append(line.strip('\\n'))\n",
    "        \n",
    "print(*facts[-5:], sep='\\n')"
   ]
  },
  {
   "cell_type": "markdown",
   "metadata": {},
   "source": [
    "### 1.1.2. Implementation of search"
   ]
  },
  {
   "cell_type": "code",
   "execution_count": 38,
   "metadata": {},
   "outputs": [],
   "source": [
    "import re\n",
    "from nltk import ngrams\n",
    "from nltk.tokenize import word_tokenize\n",
    "from collections import Counter\n",
    "import itertools\n",
    "import fnmatch\n",
    "\n",
    "\n",
    "def build_inverted_index_orig_forms(documents):\n",
    "    inverted_index = {}\n",
    "\n",
    "    for doc_id, doc in enumerate(documents):\n",
    "        words = word_tokenize(doc, preserve_line=False)\n",
    "        words = [word.lower() for word in words if word.isalpha()]\n",
    "        ctr = Counter(words)\n",
    "\n",
    "        for word in ctr.keys():\n",
    "            l = inverted_index.setdefault(word, [])\n",
    "            l.append((doc_id, ctr[word]))\n",
    "        \n",
    "    return inverted_index\n",
    "\n",
    "\n",
    "def build_k_gram_index(inverted_index: Counter, k):\n",
    "    k_gram_index = {}\n",
    "\n",
    "    word: str\n",
    "    for word in inverted_index.keys():\n",
    "        padded_word = f\"${word}$\"\n",
    "        for kgram in ngrams(padded_word, k):\n",
    "            kgram = ''.join(kgram)\n",
    "            v = k_gram_index.setdefault(kgram, set())\n",
    "            v.add(word)\n",
    "    \n",
    "    return k_gram_index\n",
    "\n",
    "\n",
    "def generate_wildcard_options(wildcard, k_gram_index, k, inverted_index):\n",
    "    #TODO for a given wildcard return all words matching it using k-grams\n",
    "    # refer to book chapter 3.2.2\n",
    "    # don't forget to pad wildcard with '$', when appropriate    \n",
    "\n",
    "    padded_wildcard = f\"${wildcard}$\".lower()\n",
    "\n",
    "    parts = padded_wildcard.split('*')\n",
    "    kgrams = itertools.chain.from_iterable(ngrams(x,  k) for x in parts)\n",
    "    candidates: set\n",
    "    candidates = None\n",
    "    for x in kgrams:\n",
    "        print(repr(x))\n",
    "        x = ''.join(x)\n",
    "        x = k_gram_index[x]\n",
    "        if candidates is None:\n",
    "            candidates = x\n",
    "        else:\n",
    "            candidates = candidates.intersection(x)\n",
    "\n",
    "    return [ x for x in candidates if fnmatch.fnmatch(x, wildcard.lower()) ]\n",
    "\n",
    "\n",
    "def search_wildcard(wildcard, k_gram_index, k, inverted_index, docs):\n",
    "    candidates = generate_wildcard_options(wildcard, k_gram_index, k, inverted_index)\n",
    "\n",
    "    inverted_index."
   ]
  },
  {
   "cell_type": "markdown",
   "metadata": {},
   "source": [
    "### 1.1.3. Tests"
   ]
  },
  {
   "cell_type": "code",
   "execution_count": 39,
   "metadata": {},
   "outputs": [
    {
     "name": "stdout",
     "output_type": "stream",
     "text": [
      "('$', 'r', 'e')\n",
      "('e', 'd', '$')\n",
      "{'reduced', 'red', 'received', 'recorded'}\n"
     ]
    },
    {
     "ename": "AssertionError",
     "evalue": "",
     "output_type": "error",
     "traceback": [
      "\u001B[0;31m---------------------------------------------------------------------------\u001B[0m",
      "\u001B[0;31mAssertionError\u001B[0m                            Traceback (most recent call last)",
      "Input \u001B[0;32mIn [39]\u001B[0m, in \u001B[0;36m<module>\u001B[0;34m\u001B[0m\n\u001B[1;32m      7\u001B[0m \u001B[38;5;28mprint\u001B[39m(wildcard_options)\n\u001B[1;32m      8\u001B[0m \u001B[38;5;28;01massert\u001B[39;00m(\u001B[38;5;28mlen\u001B[39m(wildcard_options) \u001B[38;5;241m>\u001B[39m\u001B[38;5;241m=\u001B[39m \u001B[38;5;241m3\u001B[39m)\n\u001B[0;32m----> 9\u001B[0m \u001B[38;5;28;01massert\u001B[39;00m(\u001B[38;5;124m\"\u001B[39m\u001B[38;5;124mred\u001B[39m\u001B[38;5;124m\"\u001B[39m \u001B[38;5;129;01mnot\u001B[39;00m \u001B[38;5;129;01min\u001B[39;00m wildcard_options) \n\u001B[1;32m     11\u001B[0m wildcard_results \u001B[38;5;241m=\u001B[39m search_wildcard(wildcard, k_gram_index, index_orig_forms, facts)\n\u001B[1;32m     12\u001B[0m \u001B[38;5;66;03m# some pretty printing\u001B[39;00m\n",
      "\u001B[0;31mAssertionError\u001B[0m: "
     ]
    }
   ],
   "source": [
    "index_orig_forms = build_inverted_index_orig_forms(facts)\n",
    "k_gram_index = build_k_gram_index(index_orig_forms, 3)\n",
    "\n",
    "wildcard = \"re*ed\"\n",
    "\n",
    "wildcard_options = generate_wildcard_options(wildcard, k_gram_index, 3, index_orig_forms)\n",
    "print(wildcard_options)\n",
    "assert(len(wildcard_options) >= 3)\n",
    "assert(\"red\" not in wildcard_options) \n",
    "\n",
    "wildcard_results = search_wildcard(wildcard, k_gram_index, index_orig_forms, facts)\n",
    "# some pretty printing\n",
    "for r in wildcard_results:\n",
    "    # highlight terms for visual evaluation\n",
    "    for term in wildcard_options:\n",
    "        r = re.sub(r'(' + term + ')', r'\\033[1m\\033[91m\\1\\033[0m', r, flags=re.I)\n",
    "    print(r)\n",
    "\n",
    "assert(len(wildcard_results) >=3)\n",
    "\n",
    "assert \"13. James Buchanan, the 15th U.S. president continuously bought slaves with his own money in order to free them.\" in search_wildcard(\"pres*dent\", k_gram_index, index_orig_forms, facts)\n",
    "assert \"40. 9 out of 10 Americans are deficient in Potassium.\" in search_wildcard(\"p*tas*um\", k_gram_index, index_orig_forms, facts)\n",
    "assert \"61. A man from Britain changed his name to Tim Pppppppppprice to make it harder for telemarketers to pronounce.\" in search_wildcard(\"*price\", k_gram_index, index_orig_forms, facts)"
   ]
  },
  {
   "cell_type": "markdown",
   "metadata": {},
   "source": [
    "## 1.2. Handling typos\n",
    "\n",
    "### 1.2.0. Dataset \n",
    "\n",
    "Download github typo dataset from [here](https://github.com/mhagiwara/github-typo-corpus).\n",
    "Load it with this code:"
   ]
  },
  {
   "cell_type": "code",
   "execution_count": null,
   "metadata": {},
   "outputs": [],
   "source": [
    "!pip install jsonlines"
   ]
  },
  {
   "cell_type": "code",
   "execution_count": 7,
   "metadata": {},
   "outputs": [
    {
     "ename": "FileNotFoundError",
     "evalue": "[Errno 2] No such file or directory: 'github-typo-corpus.v1.0.0.jsonl'",
     "output_type": "error",
     "traceback": [
      "\u001B[0;31m---------------------------------------------------------------------------\u001B[0m",
      "\u001B[0;31mFileNotFoundError\u001B[0m                         Traceback (most recent call last)",
      "Input \u001B[0;32mIn [7]\u001B[0m, in \u001B[0;36m<module>\u001B[0;34m\u001B[0m\n\u001B[1;32m      5\u001B[0m dataset \u001B[38;5;241m=\u001B[39m []\n\u001B[1;32m      6\u001B[0m other_langs \u001B[38;5;241m=\u001B[39m \u001B[38;5;28mset\u001B[39m()\n\u001B[0;32m----> 8\u001B[0m \u001B[38;5;28;01mwith\u001B[39;00m \u001B[43mjsonlines\u001B[49m\u001B[38;5;241;43m.\u001B[39;49m\u001B[43mopen\u001B[49m\u001B[43m(\u001B[49m\u001B[43mdataset_file\u001B[49m\u001B[43m)\u001B[49m \u001B[38;5;28;01mas\u001B[39;00m reader:\n\u001B[1;32m      9\u001B[0m     \u001B[38;5;28;01mfor\u001B[39;00m obj \u001B[38;5;129;01min\u001B[39;00m reader:\n\u001B[1;32m     10\u001B[0m         \u001B[38;5;28;01mfor\u001B[39;00m edit \u001B[38;5;129;01min\u001B[39;00m obj[\u001B[38;5;124m'\u001B[39m\u001B[38;5;124medits\u001B[39m\u001B[38;5;124m'\u001B[39m]:\n",
      "File \u001B[0;32m~/git_cloned/information-retrieval/venv/lib/python3.8/site-packages/jsonlines/jsonlines.py:623\u001B[0m, in \u001B[0;36mopen\u001B[0;34m(file, mode, loads, dumps, compact, sort_keys, flush)\u001B[0m\n\u001B[1;32m    621\u001B[0m \u001B[38;5;28mcls\u001B[39m \u001B[38;5;241m=\u001B[39m Reader \u001B[38;5;28;01mif\u001B[39;00m mode \u001B[38;5;241m==\u001B[39m \u001B[38;5;124m\"\u001B[39m\u001B[38;5;124mr\u001B[39m\u001B[38;5;124m\"\u001B[39m \u001B[38;5;28;01melse\u001B[39;00m Writer\n\u001B[1;32m    622\u001B[0m encoding \u001B[38;5;241m=\u001B[39m \u001B[38;5;124m\"\u001B[39m\u001B[38;5;124mutf-8-sig\u001B[39m\u001B[38;5;124m\"\u001B[39m \u001B[38;5;28;01mif\u001B[39;00m mode \u001B[38;5;241m==\u001B[39m \u001B[38;5;124m\"\u001B[39m\u001B[38;5;124mr\u001B[39m\u001B[38;5;124m\"\u001B[39m \u001B[38;5;28;01melse\u001B[39;00m \u001B[38;5;124m\"\u001B[39m\u001B[38;5;124mutf-8\u001B[39m\u001B[38;5;124m\"\u001B[39m\n\u001B[0;32m--> 623\u001B[0m fp \u001B[38;5;241m=\u001B[39m \u001B[43mbuiltins\u001B[49m\u001B[38;5;241;43m.\u001B[39;49m\u001B[43mopen\u001B[49m\u001B[43m(\u001B[49m\u001B[43mfile\u001B[49m\u001B[43m,\u001B[49m\u001B[43m \u001B[49m\u001B[43mmode\u001B[49m\u001B[38;5;241;43m=\u001B[39;49m\u001B[43mmode\u001B[49m\u001B[43m \u001B[49m\u001B[38;5;241;43m+\u001B[39;49m\u001B[43m \u001B[49m\u001B[38;5;124;43m\"\u001B[39;49m\u001B[38;5;124;43mt\u001B[39;49m\u001B[38;5;124;43m\"\u001B[39;49m\u001B[43m,\u001B[49m\u001B[43m \u001B[49m\u001B[43mencoding\u001B[49m\u001B[38;5;241;43m=\u001B[39;49m\u001B[43mencoding\u001B[49m\u001B[43m)\u001B[49m\n\u001B[1;32m    624\u001B[0m kwargs \u001B[38;5;241m=\u001B[39m \u001B[38;5;28mdict\u001B[39m(\n\u001B[1;32m    625\u001B[0m     loads\u001B[38;5;241m=\u001B[39mloads,\n\u001B[1;32m    626\u001B[0m     dumps\u001B[38;5;241m=\u001B[39mdumps,\n\u001B[0;32m   (...)\u001B[0m\n\u001B[1;32m    629\u001B[0m     flush\u001B[38;5;241m=\u001B[39mflush,\n\u001B[1;32m    630\u001B[0m )\n\u001B[1;32m    631\u001B[0m kwargs \u001B[38;5;241m=\u001B[39m {key: value \u001B[38;5;28;01mfor\u001B[39;00m key, value \u001B[38;5;129;01min\u001B[39;00m kwargs\u001B[38;5;241m.\u001B[39mitems() \u001B[38;5;28;01mif\u001B[39;00m value \u001B[38;5;129;01mis\u001B[39;00m \u001B[38;5;129;01mnot\u001B[39;00m \u001B[38;5;28;01mNone\u001B[39;00m}\n",
      "\u001B[0;31mFileNotFoundError\u001B[0m: [Errno 2] No such file or directory: 'github-typo-corpus.v1.0.0.jsonl'"
     ]
    }
   ],
   "source": [
    "import jsonlines\n",
    "\n",
    "dataset_file = \"github-typo-corpus.v1.0.0.jsonl\"\n",
    "\n",
    "dataset = []\n",
    "other_langs = set()\n",
    "\n",
    "with jsonlines.open(dataset_file) as reader:\n",
    "    for obj in reader:\n",
    "        for edit in obj['edits']:\n",
    "            if edit['src']['lang'] != 'eng':\n",
    "                other_langs.add(edit['src']['lang'])\n",
    "                continue\n",
    "\n",
    "            if edit['is_typo']:\n",
    "                src, tgt = edit['src']['text'], edit['tgt']['text']\n",
    "                if src.lower() != tgt.lower():\n",
    "                    dataset.append((edit['src']['text'], edit['tgt']['text']))\n",
    "                \n",
    "print(f\"Dataset size = {len(dataset)}\")"
   ]
  },
  {
   "cell_type": "markdown",
   "metadata": {},
   "source": [
    "#### Explore sample typos\n",
    "Please, explore the dataset. You may see, that this is\n",
    "- mostly markdown\n",
    "- some common mistakes with do/does\n",
    "- some just refer to punctuation typos (which we do not consider)"
   ]
  },
  {
   "cell_type": "code",
   "execution_count": null,
   "metadata": {},
   "outputs": [],
   "source": [
    "for pair in dataset[1010:1020]:\n",
    "    print(f\"{pair[0]} => {pair[1]}\")"
   ]
  },
  {
   "cell_type": "markdown",
   "metadata": {},
   "source": [
    "#### 1.2.0.1. Build a dataset vocabulary\n",
    "Here we prepare a vocabulary for spellchecker testing and for estimating overall correction quality. Consider only word-level. Be carefull, there is markdown (e.g. \\`name\\`. \\[url\\]\\(http://url)) and comment symbols (\\#, //, \\*)."
   ]
  },
  {
   "cell_type": "code",
   "execution_count": null,
   "metadata": {},
   "outputs": [],
   "source": [
    "def sent_to_words(sent):\n",
    "    # splits sentence to words, filtering out non-alphabetical terms\n",
    "    words = nltk.word_tokenize(sent)    \n",
    "    words_filtered = filter(lambda x: x.isalpha(), words)\n",
    "    return words_filtered"
   ]
  },
  {
   "cell_type": "code",
   "execution_count": null,
   "metadata": {},
   "outputs": [],
   "source": [
    "from collections import Counter\n",
    "vocabulary = Counter()\n",
    "for pair in dataset:\n",
    "    for word in sent_to_words(pair[1].lower()):\n",
    "        vocabulary[word] += 1\n",
    "len(vocabulary)"
   ]
  },
  {
   "cell_type": "code",
   "execution_count": null,
   "metadata": {},
   "outputs": [],
   "source": [
    "from itertools import islice\n",
    "print(list(islice(vocabulary.items(), 10)))"
   ]
  },
  {
   "cell_type": "markdown",
   "metadata": {},
   "source": [
    "### 1.2.1. Implement context-independent spellcheker (Trigrams with Jaccard coefficient) ##"
   ]
  },
  {
   "cell_type": "code",
   "execution_count": null,
   "metadata": {},
   "outputs": [],
   "source": [
    "def fix_typo_kgram(word, k_gram_index) -> list:\n",
    "    #TODO return best matches with respect to Jaccard index   \n",
    "    \n",
    "    return []"
   ]
  },
  {
   "cell_type": "markdown",
   "metadata": {},
   "source": [
    "### 1.2.2. Tests"
   ]
  },
  {
   "cell_type": "code",
   "execution_count": null,
   "metadata": {},
   "outputs": [],
   "source": [
    "# tests\n",
    "\n",
    "k_gram_index_github = build_k_gram_index(vocabulary, 3)\n",
    "print(fix_typo_kgram(\"enouh\", k_gram_index_github)[:20])\n",
    "assert \"enough\" in fix_typo_kgram(\"enouh\", k_gram_index_github), \"Assert k-gram failed\""
   ]
  },
  {
   "cell_type": "markdown",
   "metadata": {},
   "source": [
    "## 1.3. [Extra tasks, for fun]\n",
    "\n",
    "### 1.3.1. QWERTY - Editorial distance\n",
    "\n",
    "Write the code to compute weighted QWERTY-editorial distance.\n",
    "\n",
    "<img src=\"https://upload.wikimedia.org/wikipedia/commons/thumb/d/da/KB_United_States.svg/640px-KB_United_States.svg.png\" width=\"640\"/> \n",
    "\n",
    "Use this image to prepare weight function:\n",
    "- all letter pairs which share vertical border will get 0.5 multiplier **for replace** (`df`, `cv`, `ui`, ...)\n",
    "- all letter pairs which share at least some horizontal border will get 0.7 multiplier **for replace** (`dc`, `dr`, `km`, ...)\n",
    "- other operations are not scaled (x1 multiplier)."
   ]
  },
  {
   "cell_type": "code",
   "execution_count": null,
   "metadata": {},
   "outputs": [],
   "source": [
    "def replace_weight(let1, let2) -> float:\n",
    "    # TODO what is the weight for a pair of letters being replaced? Note this function should be commutative\n",
    "    \n",
    "    return 0.0\n",
    "\n",
    "def qwerty_edit_dist(s1, s2) -> float:\n",
    "    # TODO compute the Damerau-Levenshtein distance between two given strings (s1 and s2)\n",
    "    \n",
    "    return 0.0"
   ]
  },
  {
   "cell_type": "code",
   "execution_count": null,
   "metadata": {},
   "outputs": [],
   "source": [
    "# tests\n",
    "\n",
    "assert qwerty_edit_dist(\"korrectud\", \"corrected\") == 2.0, \"Edit distance is computed incorrectly\"\n",
    "assert qwerty_edit_dist(\"soem\", \"some\") == 1.0, \"Edit distance is computed incorrectly\"\n",
    "assert qwerty_edit_dist(\"one\", \"one\") == 0.0, \"Edit distance is computed incorrectly\"\n",
    "assert qwerty_edit_dist(\"fihure\", \"figure\") == 0.5, \"Edit distance is computed incorrectly\"\n",
    "assert qwerty_edit_dist(\"fivure\", \"figure\") == 0.7, \"Edit distance is computed incorrectly\""
   ]
  },
  {
   "cell_type": "markdown",
   "metadata": {},
   "source": [
    "### 1.3.2. Norvig's spellchecker with QWERTY weights\n",
    "\n",
    "You can base your code on [Norvig's corrector](https://norvig.com/spell-correct.html), but you should be sure you account the fact, that typos for close letters cost less. This should be considered in ranking."
   ]
  },
  {
   "cell_type": "code",
   "execution_count": null,
   "metadata": {},
   "outputs": [],
   "source": [
    "def fix_typo_qwerty_norvig(word) -> str:\n",
    "    #TODO return best matching result for the word\n",
    "    \n",
    "    return \"\""
   ]
  },
  {
   "cell_type": "code",
   "execution_count": null,
   "metadata": {},
   "outputs": [],
   "source": [
    "# tests\n",
    "\n",
    "assert fix_typo_qwerty_norvig(\"korrectud\") == \"corrected\", \"Norvig's correcter doesn't work\"\n",
    "assert fix_typo_qwerty_norvig(\"speling\") == \"spelling\", \"Norvig's correcter doesn't work\"\n",
    "assert fix_typo_qwerty_norvig(\"condidence\") == \"confidence\", \"Norvig's correcter doesn't work\"\n",
    "assert fix_typo_qwerty_norvig(\"fpx\") == \"fox\", \"Norvig's correcter doesn't work\"\n",
    "assert fix_typo_qwerty_norvig(\"fux\") == \"fix\", \"Norvig's correcter doesn't work\""
   ]
  },
  {
   "cell_type": "markdown",
   "metadata": {},
   "source": [
    "### 12.3.3. Estimate quality of functions"
   ]
  },
  {
   "cell_type": "code",
   "execution_count": null,
   "metadata": {},
   "outputs": [],
   "source": [
    "norvig, kgram = 0, 0\n",
    "limit = 10000\n",
    "counter = limit\n",
    "for i, (src, target) in enumerate(dataset):\n",
    "    if i == limit:\n",
    "        break\n",
    "    words = sent_to_words(src.lower())\n",
    "    # word suspected for typos\n",
    "    sn, sk = src.lower(), src.lower()\n",
    "    for word in words:\n",
    "        if word not in vocabulary and word.isalpha():\n",
    "            # top-1 accuracy\n",
    "            wn, wk = fix_typo_qwerty_norvig(word), \\\n",
    "                     fix_typo_kgram(word, k_gram_index_github)[0]\n",
    "            sn = sn.replace(word, wn)\n",
    "            sk = sk.replace(word, wk)\n",
    "    norvig += int(sn == target.lower())\n",
    "    kgram += int(sk == target.lower())\n",
    "\n",
    "print(f\"Norvig accuracy ({norvig}) = {norvig / limit}\")\n",
    "print(f\"k-gram accuracy ({kgram}) = {kgram / limit}\")"
   ]
  }
 ],
 "metadata": {
  "kernelspec": {
   "display_name": "Python 3",
   "language": "python",
   "name": "python3"
  },
  "language_info": {
   "codemirror_mode": {
    "name": "ipython",
    "version": 3
   },
   "file_extension": ".py",
   "mimetype": "text/x-python",
   "name": "python",
   "nbconvert_exporter": "python",
   "pygments_lexer": "ipython3",
   "version": "3.8.8"
  }
 },
 "nbformat": 4,
 "nbformat_minor": 4
}
