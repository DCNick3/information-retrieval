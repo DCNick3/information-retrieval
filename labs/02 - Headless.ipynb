{
 "cells": [
  {
   "cell_type": "markdown",
   "id": "726437f1-9589-4fd2-8cfc-26f5ac0a7610",
   "metadata": {},
   "source": [
    "# Flightradar analysis\n",
    "\n",
    "In this task we will use https://www.flightradar24.com/ website to monitor airplanes near Innopolis. For this we will use some information from URL, and from moving airplane items. Let's have fun with airplanes!\n",
    "\n",
    "**NB:** This lab is designed to be executed locally, as it launches local application (browser). Indeed, headless mode can be used in colab, but this would also require specific browser installation steps. Thus, please use Anaconda."
   ]
  },
  {
   "cell_type": "markdown",
   "id": "c94b20b2-4287-47b2-bd02-95fd88d9dd39",
   "metadata": {},
   "source": [
    "## Dependency installation\n",
    "\n",
    "Let's try to load and parse the page the way we did before:"
   ]
  },
  {
   "cell_type": "code",
   "execution_count": 1,
   "id": "8bc16fb2-c56f-4d77-b0d0-8e3dfb9019d3",
   "metadata": {},
   "outputs": [
    {
     "name": "stdout",
     "output_type": "stream",
     "text": [
      "Status: 451\n"
     ]
    }
   ],
   "source": [
    "import requests\n",
    "from bs4 import BeautifulSoup\n",
    "resp = requests.get(\"https://www.flightradar24.com/\")\n",
    "print(\"Status:\", resp.status_code)"
   ]
  },
  {
   "cell_type": "markdown",
   "id": "d3cd4a96-6c46-4f55-b025-224bef8c2760",
   "metadata": {},
   "source": [
    "Wowowow! https://developer.mozilla.org/en-US/docs/Web/HTTP/Status/451 :\n",
    "\n",
    "```\n",
    "The HyperText Transfer Protocol (HTTP) '451 Unavailable For Legal Reasons' client error response code indicates that the user requested a resource that is not available due to legal reasons, such as a web page for which a legal action has been issued.\n",
    "```\n",
    "\n",
    "As we see, the output is not what we would expect. So, what can we do when a page is not being loaded right away, but is rather rendered by a script, and only in a valid browser? Browser engines can help us getting the data. Let's try to load the same web-page, but do it in a different way: let's give some time to a browser to load the scripts and run them; and then we will work with DOM (Document Object Model), but will get it from browser engine itself, not via `BeautifulSoup`.\n",
    "\n",
    "Where do we get browser engine from? Simply installing a browser will do the thing. How do we send commands to it from the code, and retrieve the DOM? Service applications called `drivers` will interpret commands and translate them into browser actions.\n",
    "\n",
    "For each browser engine supported you will need to:\n",
    "1. install browser itself;\n",
    "2. download 'driver' - binary executable, which passed commands from selenium to browser. E.g. [Gecko = Firefox](https://github.com/mozilla/geckodriver/releases), [ChromeDriver](http://chromedriver.storage.googleapis.com/index.html);\n",
    "3. unpack driver into a folder under PATH environment variable. Or specify exact binary location.\n",
    "\n",
    "### Download driver\n",
    "\n",
    "And place it in any folder or under PATH env. variable. [Firefox](https://github.com/mozilla/geckodriver/releases), [Chrome](http://chromedriver.storage.googleapis.com/index.html)\n",
    "\n",
    "### Install selenium"
   ]
  },
  {
   "cell_type": "markdown",
   "id": "cf482cdf-b48d-416a-8ae3-83711df870e6",
   "metadata": {},
   "source": [
    "Check it works"
   ]
  },
  {
   "cell_type": "code",
   "execution_count": 3,
   "id": "c7b848cb-12df-49ab-93d0-d3c9be73750a",
   "metadata": {},
   "outputs": [],
   "source": [
    "from selenium import webdriver"
   ]
  },
  {
   "cell_type": "markdown",
   "id": "50821f49-e572-45bd-bd07-a639e5353637",
   "metadata": {},
   "source": [
    "### Launch browser\n",
    "\n",
    "This will open a browser window"
   ]
  },
  {
   "cell_type": "code",
   "execution_count": 4,
   "id": "22e8e59d-7b26-42e1-97d6-d54046100412",
   "metadata": {},
   "outputs": [],
   "source": [
    "browser = webdriver.Firefox()\n",
    "# or explicitly\n",
    "# browser = webdriver.Firefox(\n",
    "#     executable_path='C:/bin/geckodriver.exe', \n",
    "#     firefox_binary='C:/Program Files/Mozilla Firefox/firefox.exe'\n",
    "# )"
   ]
  },
  {
   "cell_type": "markdown",
   "id": "568732b0-c333-4197-9e34-c2d31b9271e7",
   "metadata": {},
   "source": [
    "### Download the page ... again"
   ]
  },
  {
   "cell_type": "code",
   "execution_count": 5,
   "id": "393e503a-637a-4777-99c4-863ca127e158",
   "metadata": {},
   "outputs": [
    {
     "name": "stdout",
     "output_type": "stream",
     "text": [
      "Elements found: 5\n"
     ]
    }
   ],
   "source": [
    "from selenium.webdriver.common.by import By\n",
    "\n",
    "# navigate to page\n",
    "browser.get('https://www.flightradar24.com/')\n",
    "browser.implicitly_wait(10)  # wait 10 seconds\n",
    "\n",
    "# select all visible airplanes from document\n",
    "elements = browser.find_elements(By.CSS_SELECTOR, \"div[role=button]\")\n",
    "# note that if number differs from launch to launch this means better extend wait time\n",
    "print(\"Elements found:\", len(elements))"
   ]
  },
  {
   "cell_type": "markdown",
   "id": "d15b0881-78d7-4702-bddc-9e8da62eb35a",
   "metadata": {},
   "source": [
    "### Preparatory functions\n",
    "\n",
    "We will center our map around Innopolis, and choose one of the suitable scales."
   ]
  },
  {
   "cell_type": "code",
   "execution_count": 6,
   "id": "025c45bc-60c3-459a-9ff1-7af0e10c1a58",
   "metadata": {},
   "outputs": [],
   "source": [
    "innopolis = \"55.75,48.75\"\n",
    "scale = 9\n",
    "\n",
    "\n",
    "def scale_km_per_px(scale):\n",
    "    return 2 ** 8 / 3 / (2 ** scale)\n",
    "\n",
    "\n",
    "def dist(a, b):\n",
    "    return ((a[0] - b[0]) ** 2 + (a[1] - b[1]) ** 2) ** .5"
   ]
  },
  {
   "cell_type": "markdown",
   "id": "1c5fafc5-d165-4fff-a764-f3ed1bfefc62",
   "metadata": {},
   "source": [
    "## Solving the problem\n",
    "\n",
    "### Obtain center coordinates\n",
    "\n",
    "First task is to get pixel coordinates of the screen center. You are given a browser instance object, and we are interested, what is the size of the rendered page (not the window!). For this you will do the following:\n",
    "1. find the root `html` tag by tag name. Refer of [`find_element` documentation](https://selenium-python.readthedocs.io/locating-elements.html) and [`By` options](https://www.selenium.dev/selenium/docs/api/py/webdriver/selenium.webdriver.common.by.html).\n",
    "2. Extract **attribute** values of this tag. We are interested in `clientWidth` and `clientHeight`. [See this doc](https://selenium-python.readthedocs.io/api.html#selenium.webdriver.remote.webelement.WebElement.get_attribute) for usage.\n",
    "3. Divide these values by 2 and return as a tuple."
   ]
  },
  {
   "cell_type": "code",
   "execution_count": 1,
   "id": "8510b43e-81d8-4479-a75c-4d7de2114870",
   "metadata": {},
   "outputs": [
    {
     "ename": "NameError",
     "evalue": "name 'webdriver' is not defined",
     "output_type": "error",
     "traceback": [
      "\u001B[0;31m---------------------------------------------------------------------------\u001B[0m",
      "\u001B[0;31mNameError\u001B[0m                                 Traceback (most recent call last)",
      "Input \u001B[0;32mIn [1]\u001B[0m, in \u001B[0;36m<module>\u001B[0;34m\u001B[0m\n\u001B[0;32m----> 1\u001B[0m \u001B[38;5;28;01mdef\u001B[39;00m \u001B[38;5;21mget_center_point\u001B[39m(browser: \u001B[43mwebdriver\u001B[49m\u001B[38;5;241m.\u001B[39mRemote):\n\u001B[1;32m      2\u001B[0m     html \u001B[38;5;241m=\u001B[39m browser\u001B[38;5;241m.\u001B[39mfind_element(By\u001B[38;5;241m.\u001B[39mNAME, \u001B[38;5;124m'\u001B[39m\u001B[38;5;124mhtml\u001B[39m\u001B[38;5;124m'\u001B[39m)\n\u001B[1;32m      3\u001B[0m     inner_width \u001B[38;5;241m=\u001B[39m \u001B[38;5;28mint\u001B[39m(html\u001B[38;5;241m.\u001B[39mget_attribute(\u001B[38;5;124m'\u001B[39m\u001B[38;5;124mclientWidth\u001B[39m\u001B[38;5;124m'\u001B[39m))\n",
      "\u001B[0;31mNameError\u001B[0m: name 'webdriver' is not defined"
     ]
    }
   ],
   "source": [
    "def get_center_point(browser: webdriver.Remote):\n",
    "    html = browser.find_element(By.NAME, 'html')\n",
    "    inner_width = int(html.get_attribute('clientWidth'))\n",
    "    inner_height = int(html.get_attribute('clientHeight'))\n",
    "    # in center\n",
    "    innopolis_px = (inner_width / 2, inner_height / 2)\n",
    "    return innopolis_px"
   ]
  },
  {
   "cell_type": "markdown",
   "id": "cafbd055-0e4b-4fc3-a11f-b4ac7de5349f",
   "metadata": {},
   "source": [
    "### Catching the airplane\n",
    "\n",
    "This code will search for airplane and airport images coordinates on the map. Your task is to complete the check if this icon belongs to the airport, or airplane.\n",
    "\n",
    "Airport example:\n",
    "\n",
    "```\n",
    "<div style=\"width: 20px; height: 20px; overflow: hidden; position: absolute; cursor: pointer; touch-action: none; left: 131px; top: -89px; z-index: 1090430;\" title=\"Yoshkar-Ola Airport (JOK/UWKJ)\" aria-label=\"Yoshkar-Ola Airport (JOK/UWKJ)\" role=\"button\" tabindex=\"0\">...</div>\n",
    "```\n",
    "\n",
    "Airplane example:\n",
    "\n",
    "```\n",
    "<div style=\"width: 33px; height: 33px; overflow: hidden; position: absolute; cursor: pointer; touch-action: none; left: -30px; top: 17px; z-index: 1031004;\" title=\"\" role=\"button\" tabindex=\"-1\">...</div>\n",
    "```\n",
    "\n",
    "Again, I think [get_attribute(...) call](https://selenium-python.readthedocs.io/api.html#selenium.webdriver.remote.webelement.WebElement.get_attribute) can help in distinguishing these."
   ]
  },
  {
   "cell_type": "code",
   "execution_count": 8,
   "id": "2aa560df-d6e8-4a59-8499-1305cacf5f3d",
   "metadata": {},
   "outputs": [],
   "source": [
    "def spot_some_air_stuff(browser):\n",
    "    # these are all the elements, corresponding to the desired filter\n",
    "    elements = browser.find_elements(By.CSS_SELECTOR, \"div[role=button][tabindex='-1']\")\n",
    "    airports = []\n",
    "    airplanes = []\n",
    "    \n",
    "    for element in elements:\n",
    "        aria = # ... this is where you choose whether this is an airport or an airplane\n",
    "        if aria:\n",
    "            airports.append(element)\n",
    "        else:\n",
    "            airplanes.append(element)\n",
    "    return airports, airplanes"
   ]
  },
  {
   "cell_type": "markdown",
   "id": "54f15191-b605-446c-960d-68ab2dcfda62",
   "metadata": {},
   "source": [
    "### Get the info from the pane\n",
    "\n",
    "When we click on the airplane image, a side pane appears. We will read the info from this pane."
   ]
  },
  {
   "cell_type": "code",
   "execution_count": 9,
   "id": "7f679837-54fa-48c6-b748-b9e8e6cf2a2b",
   "metadata": {},
   "outputs": [],
   "source": [
    "def get_flight_info(browser):\n",
    "    flight = browser.find_element(By.CSS_SELECTOR, 'h2.airline-info__flight-no')\n",
    "    dep = browser.find_element(By.CSS_SELECTOR, \"a.dep.iata\")\n",
    "    dest = browser.find_element(By.CSS_SELECTOR, \"a.arr.iata\")\n",
    "    flight_number = flight.text\n",
    "    departure = dep.get_attribute('data-tooltip-value')\n",
    "    destination = dest.get_attribute('data-tooltip-value')   \n",
    "    return flight_number, departure, destination"
   ]
  },
  {
   "cell_type": "markdown",
   "id": "7892c1b2-7feb-4244-99df-a9514b6777f5",
   "metadata": {},
   "source": [
    "### And here is the main method\n",
    "\n",
    "Add some missing code lines, where TODO is specified."
   ]
  },
  {
   "cell_type": "code",
   "execution_count": 10,
   "id": "a2bcff33-5a4f-4a1d-9d8b-6877086b42a7",
   "metadata": {},
   "outputs": [],
   "source": [
    "def report_flights(browser, center, scale):\n",
    "    import time\n",
    "\n",
    "    browser.get(f\"https://www.flightradar24.com/{center}/{scale}\")\n",
    "    # wait a page to load\n",
    "    browser.implicitly_wait(5)\n",
    "    # wait dynamic elements to load\n",
    "    time.sleep(5)\n",
    "    innopolis_px = get_center_point(browser)   \n",
    "    airports, airplanes = spot_some_air_stuff(browser)\n",
    "    for element in airports:\n",
    "        loc = element.location\n",
    "\n",
    "        # shifts are due to airport figure size\n",
    "        coord = (element.location['x'] + element.size['width'] // 2, \n",
    "                 element.location['y'] + element.size['height'] // 2)\n",
    "        d = dist(innopolis_px, coord) * scale_km_per_px(scale)\n",
    "        print(f\"Airport {element.get_attribute('aria-label')} is {d:.2f} km away.\")\n",
    "    \n",
    "    for element in airplanes:\n",
    "        try:\n",
    "            # TODO click on the airplane icon (element). See https://selenium-python.readthedocs.io/api.html#selenium.webdriver.remote.webelement.WebElement.click\n",
    "            # your code here\n",
    "            \n",
    "            # let it render the pane\n",
    "            time.sleep(1)\n",
    "            # extract flight info from the pane\n",
    "            flight_number, departure, destination = get_flight_info(browser)\n",
    "            # shifts are due to airplane figure size\n",
    "            coord = (element.location['x'] + element.size['width'] // 2, \n",
    "                     element.location['y'] + element.size['height'] // 2)\n",
    "            d = dist(innopolis_px, coord) * scale_km_per_px(scale)\n",
    "            message = (f\"{flight_number} flies\\n\\tfrom \" + \n",
    "                       f\"{departure}\\n\\tto \" + \n",
    "                       f\"{destination}\\n\\t\" + \n",
    "                       f\"{d:.2f}km far away from Innopolis\")\n",
    "            message = message.replace(\"<br>\", \" \")\n",
    "            print(message)\n",
    "\n",
    "            # TODO: click on the [x] in the corner of the panel.\n",
    "            # this is an <a> tag with 'close-panel' class\n",
    "            # NB: Sometimes this can also raise and exception due to occlusion\n",
    "            # your code here\n",
    "        except Exception as e:\n",
    "            pass\n",
    "            # print(e)"
   ]
  },
  {
   "cell_type": "code",
   "execution_count": 11,
   "id": "1daeceee-1415-439c-80eb-a5b921a47853",
   "metadata": {},
   "outputs": [
    {
     "name": "stdout",
     "output_type": "stream",
     "text": [
      "Airport Naberezhnye Chelny Begishevo Airport (NBC/UWKE) is 217.43 km away.\n",
      "Airport Kazan International Airport (KZN/UWKD) is 70.69 km away.\n",
      "U63768 flies\n",
      "\tfrom Hannover Langenhagen Airport (HAJ/EDDV)\n",
      "\tto Yekaterinburg Koltsovo International Airport (SVX/USSS)\n",
      "\t134.16km far away from Innopolis\n",
      "SU1680 flies\n",
      "\tfrom Moscow Sheremetyevo International Airport (SVO/UUEE)\n",
      "\tto Naberezhnye Chelny Begishevo Airport (NBC/UWKE)\n",
      "\t76.52km far away from Innopolis\n",
      "Wall time: 11.7 s\n"
     ]
    }
   ],
   "source": [
    "%%time\n",
    "report_flights(browser, innopolis, 8)"
   ]
  },
  {
   "cell_type": "markdown",
   "id": "4a3e85ae-291f-40e3-97ed-70a914c62ef3",
   "metadata": {},
   "source": [
    "### And now we close the browser"
   ]
  },
  {
   "cell_type": "code",
   "execution_count": 12,
   "id": "cf841036-517d-49af-b8ca-1d4fc7489014",
   "metadata": {},
   "outputs": [],
   "source": [
    "browser.quit()"
   ]
  },
  {
   "cell_type": "markdown",
   "id": "5e640683-8102-4b30-9af3-da006cfbe9f6",
   "metadata": {},
   "source": [
    "## Headless\n",
    "\n",
    "Drawing the page explicitly consumes additional resources. Thus, we will run our application with no browser window now!\n",
    "\n",
    "Browsers (at least [FF](https://developer.mozilla.org/en-US/docs/Mozilla/Firefox/Headless_mode), [Chrome](https://intoli.com/blog/running-selenium-with-headless-chrome/), IE) have headless mode - no window rendering and so on. Which means it should work much faster!"
   ]
  },
  {
   "cell_type": "code",
   "execution_count": 13,
   "id": "c4927163-addd-4990-8922-e6b84b270b1a",
   "metadata": {},
   "outputs": [],
   "source": [
    "options = webdriver.FirefoxOptions()\n",
    "options.headless = True\n",
    "# options.add_argument('headless') -- old version of syntax\n",
    "options.add_argument('window-size=1200x600')\n",
    "browser = webdriver.Firefox(options=options)"
   ]
  },
  {
   "cell_type": "code",
   "execution_count": 14,
   "id": "9d74fd08-33e3-40cf-9988-1c58caad2fa8",
   "metadata": {},
   "outputs": [
    {
     "name": "stdout",
     "output_type": "stream",
     "text": [
      "Airport Cheboksary Airport (CSY/UWKS) is 82.11 km away.\n",
      "Airport Naberezhnye Chelny Begishevo Airport (NBC/UWKE) is 217.43 km away.\n",
      "Airport Kazan International Airport (KZN/UWKD) is 70.69 km away.\n",
      "U63768 flies\n",
      "\tfrom Hannover Langenhagen Airport (HAJ/EDDV)\n",
      "\tto Yekaterinburg Koltsovo International Airport (SVX/USSS)\n",
      "\t139.14km far away from Innopolis\n",
      "4G410 flies\n",
      "\tfrom Yekaterinburg Koltsovo International Airport (SVX/USSS)\n",
      "\tto  (N/A/N/A)\n",
      "\t122.26km far away from Innopolis\n",
      "SU1680 flies\n",
      "\tfrom Moscow Sheremetyevo International Airport (SVO/UUEE)\n",
      "\tto Naberezhnye Chelny Begishevo Airport (NBC/UWKE)\n",
      "\t81.88km far away from Innopolis\n",
      "Wall time: 14.3 s\n"
     ]
    }
   ],
   "source": [
    "%%time\n",
    "report_flights(browser, innopolis, 8)"
   ]
  },
  {
   "cell_type": "code",
   "execution_count": 15,
   "id": "b64f847f-011f-46a6-a7ed-c096c669f8e3",
   "metadata": {},
   "outputs": [],
   "source": [
    "browser.quit()"
   ]
  }
 ],
 "metadata": {
  "kernelspec": {
   "display_name": "Python 3",
   "language": "python",
   "name": "python3"
  },
  "language_info": {
   "codemirror_mode": {
    "name": "ipython",
    "version": 3
   },
   "file_extension": ".py",
   "mimetype": "text/x-python",
   "name": "python",
   "nbconvert_exporter": "python",
   "pygments_lexer": "ipython3",
   "version": "3.8.8"
  }
 },
 "nbformat": 4,
 "nbformat_minor": 5
}